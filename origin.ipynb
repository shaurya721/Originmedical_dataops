{
 "cells": [
  {
   "cell_type": "code",
   "execution_count": 1,
   "id": "e4742e03",
   "metadata": {},
   "outputs": [
    {
     "name": "stdout",
     "output_type": "stream",
     "text": [
      "Requirement already satisfied: pandas in c:\\users\\shaurya\\anaconda3\\lib\\site-packages (1.4.2)\n",
      "Requirement already satisfied: numpy in c:\\users\\shaurya\\anaconda3\\lib\\site-packages (1.21.5)\n",
      "Requirement already satisfied: matplotlib in c:\\users\\shaurya\\anaconda3\\lib\\site-packages (3.5.1)\n",
      "Requirement already satisfied: PyPDF2 in c:\\users\\shaurya\\anaconda3\\lib\\site-packages (3.0.1)\n",
      "Requirement already satisfied: pdfplumber in c:\\users\\shaurya\\anaconda3\\lib\\site-packages (0.11.5)\n",
      "Requirement already satisfied: reportlab in c:\\users\\shaurya\\anaconda3\\lib\\site-packages (4.3.1)\n",
      "Requirement already satisfied: fpdf in c:\\users\\shaurya\\anaconda3\\lib\\site-packages (1.7.2)\n"
     ]
    },
    {
     "name": "stderr",
     "output_type": "stream",
     "text": [
      "ERROR: Could not find a version that satisfies the requirement json (from versions: none)\n",
      "ERROR: No matching distribution found for json\n"
     ]
    }
   ],
   "source": [
    "!pip install pandas numpy matplotlib PyPDF2 pdfplumber reportlab fpdf json sqlite3\n"
   ]
  },
  {
   "cell_type": "code",
   "execution_count": 2,
   "id": "6102aea1",
   "metadata": {},
   "outputs": [
    {
     "name": "stdout",
     "output_type": "stream",
     "text": [
      "All libraries are installed and working!\n"
     ]
    }
   ],
   "source": [
    "import PyPDF2\n",
    "import pdfplumber\n",
    "import reportlab\n",
    "from fpdf import FPDF\n",
    "import json  \n",
    "print(\"All libraries are installed and working!\")\n"
   ]
  },
  {
   "cell_type": "code",
   "execution_count": 3,
   "id": "1ff5e7a7",
   "metadata": {},
   "outputs": [
    {
     "name": "stdout",
     "output_type": "stream",
     "text": [
      "Requirement already satisfied: pip in c:\\users\\shaurya\\anaconda3\\lib\\site-packages (25.0.1)\n",
      "Requirement already satisfied: PyPDF2 in c:\\users\\shaurya\\anaconda3\\lib\\site-packages (3.0.1)\n",
      "Requirement already satisfied: pdfplumber in c:\\users\\shaurya\\anaconda3\\lib\\site-packages (0.11.5)\n",
      "Requirement already satisfied: reportlab in c:\\users\\shaurya\\anaconda3\\lib\\site-packages (4.3.1)\n",
      "Requirement already satisfied: fpdf in c:\\users\\shaurya\\anaconda3\\lib\\site-packages (1.7.2)\n",
      "Requirement already satisfied: typing_extensions>=3.10.0.0 in c:\\users\\shaurya\\anaconda3\\lib\\site-packages (from PyPDF2) (4.1.1)\n",
      "Requirement already satisfied: pdfminer.six==20231228 in c:\\users\\shaurya\\anaconda3\\lib\\site-packages (from pdfplumber) (20231228)\n",
      "Requirement already satisfied: Pillow>=9.1 in c:\\users\\shaurya\\anaconda3\\lib\\site-packages (from pdfplumber) (11.1.0)\n",
      "Requirement already satisfied: pypdfium2>=4.18.0 in c:\\users\\shaurya\\anaconda3\\lib\\site-packages (from pdfplumber) (4.30.1)\n",
      "Requirement already satisfied: charset-normalizer>=2.0.0 in c:\\users\\shaurya\\anaconda3\\lib\\site-packages (from pdfminer.six==20231228->pdfplumber) (2.0.4)\n",
      "Requirement already satisfied: cryptography>=36.0.0 in c:\\users\\shaurya\\anaconda3\\lib\\site-packages (from pdfminer.six==20231228->pdfplumber) (44.0.1)\n",
      "Requirement already satisfied: chardet in c:\\users\\shaurya\\anaconda3\\lib\\site-packages (from reportlab) (4.0.0)\n",
      "Requirement already satisfied: cffi>=1.12 in c:\\users\\shaurya\\anaconda3\\lib\\site-packages (from cryptography>=36.0.0->pdfminer.six==20231228->pdfplumber) (1.15.0)\n",
      "Requirement already satisfied: pycparser in c:\\users\\shaurya\\anaconda3\\lib\\site-packages (from cffi>=1.12->cryptography>=36.0.0->pdfminer.six==20231228->pdfplumber) (2.21)\n"
     ]
    }
   ],
   "source": [
    "!pip install --upgrade pip\n",
    "!pip install PyPDF2 pdfplumber reportlab fpdf\n"
   ]
  },
  {
   "cell_type": "code",
   "execution_count": 4,
   "id": "f609a589",
   "metadata": {},
   "outputs": [
    {
     "name": "stdout",
     "output_type": "stream",
     "text": [
      "All libraries are installed and working!\n"
     ]
    }
   ],
   "source": [
    "import PyPDF2\n",
    "import pdfplumber\n",
    "import reportlab\n",
    "from fpdf import FPDF\n",
    "import json \n",
    "print(\"All libraries are installed and working!\")\n"
   ]
  },
  {
   "cell_type": "code",
   "execution_count": 5,
   "id": "1c38fa56",
   "metadata": {},
   "outputs": [
    {
     "name": "stdout",
     "output_type": "stream",
     "text": [
      "RC1 exist: True\n",
      "RC2 exist: True\n"
     ]
    }
   ],
   "source": [
    "import os\n",
    "\n",
    "rc1_path = r\"C:\\Users\\shaurya\\OneDrive\\Desktop\\origin dataset\\RC-Datasets\\RC1\"\n",
    "rc2_path = r\"C:\\Users\\shaurya\\OneDrive\\Desktop\\origin dataset\\RC-Datasets\\RC2\"\n",
    "\n",
    "print(\"RC1 exist:\", os.path.exists(rc1_path))\n",
    "print(\"RC2 exist:\", os.path.exists(rc2_path))\n"
   ]
  },
  {
   "cell_type": "code",
   "execution_count": 6,
   "id": "863b6561",
   "metadata": {},
   "outputs": [
    {
     "name": "stdout",
     "output_type": "stream",
     "text": [
      "Total PDFs found: 100\n",
      "Sample PDF: ['patient_10785.pdf', 'patient_10785_cleaned.txt', 'patient_14392.pdf', 'patient_14392_cleaned.txt', 'patient_15973.pdf']\n"
     ]
    }
   ],
   "source": [
    "pdf_folder = os.path.join(rc1_path, \"PDFs\")\n",
    "pdf_files = os.listdir(pdf_folder)\n",
    "\n",
    "print(\"Total PDFs found:\", len(pdf_files))\n",
    "print(\"Sample PDF:\", pdf_files[:5])"
   ]
  },
  {
   "cell_type": "code",
   "execution_count": 7,
   "id": "48ccf1fb",
   "metadata": {},
   "outputs": [
    {
     "name": "stdout",
     "output_type": "stream",
     "text": [
      "Total pages converted to images: 1\n",
      "First page saved as output_page1.png\n"
     ]
    }
   ],
   "source": [
    "from pdf2image import convert_from_path\n",
    "import os\n",
    "\n",
    "pdf_path = os.path.join(pdf_folder, pdf_files[0])\n",
    "\n",
    "images = convert_from_path(pdf_path)\n",
    "\n",
    "print(f\"Total pages converted to images: {len(images)}\")\n",
    "\n",
    "images[0].save(\"output_page1.png\", \"PNG\")\n",
    "print(\"First page saved as output_page1.png\")\n"
   ]
  },
  {
   "cell_type": "code",
   "execution_count": 8,
   "id": "fdcdeb57",
   "metadata": {},
   "outputs": [
    {
     "name": "stdout",
     "output_type": "stream",
     "text": [
      "Requirement already satisfied: pytesseract in c:\\users\\shaurya\\anaconda3\\lib\\site-packages (0.3.13)\n",
      "Requirement already satisfied: pdf2image in c:\\users\\shaurya\\anaconda3\\lib\\site-packages (1.17.0)\n",
      "Requirement already satisfied: pillow in c:\\users\\shaurya\\anaconda3\\lib\\site-packages (11.1.0)\n",
      "Requirement already satisfied: packaging>=21.3 in c:\\users\\shaurya\\anaconda3\\lib\\site-packages (from pytesseract) (21.3)\n",
      "Requirement already satisfied: pyparsing!=3.0.5,>=2.0.2 in c:\\users\\shaurya\\anaconda3\\lib\\site-packages (from packaging>=21.3->pytesseract) (3.0.4)\n",
      "Note: you may need to restart the kernel to use updated packages.\n"
     ]
    }
   ],
   "source": [
    "pip install pytesseract pdf2image pillow\n"
   ]
  },
  {
   "cell_type": "code",
   "execution_count": 9,
   "id": "3902e489",
   "metadata": {},
   "outputs": [
    {
     "name": "stdout",
     "output_type": "stream",
     "text": [
      "Extracted Text:\n",
      "Origin Hospital\n",
      "\n",
      "Patient ID: 10785 Patient Age: 33 years\n",
      "Patient Name: Nipzu GA: 43 weeks 1 day\n",
      "Gender : Female BMI: 28\n",
      "\n",
      "Examination Findings\n",
      "Head : Normal skull apperance\n",
      "\n",
      "Brain : No choroid plexus cyst seen\n",
      "\n",
      "Heart : Normal 4 chamber view\n",
      "Spine: No spina bifida\n",
      "Abdominal wall: Normal\n",
      "Urinary tract: Normal\n",
      "\n",
      "Extremities: Hands and feet appear normal\n",
      "\n",
      "Conclusion\n",
      "\n",
      "There is no structural defects and normal flow patterns no fetal abnormalities detected in this scan\n",
      "\n",
      "Extracted text saved as extracted_text.txt\n"
     ]
    }
   ],
   "source": [
    "import pytesseract\n",
    "\n",
    "pytesseract.pytesseract.tesseract_cmd = r\"C:\\Program Files\\Tesseract-OCR\\tesseract.exe\" \n",
    "\n",
    "extracted_text = pytesseract.image_to_string(images[0])\n",
    "\n",
    "print(\"Extracted Text:\")\n",
    "print(extracted_text)\n",
    "\n",
    "with open(\"extracted_text.txt\", \"w\", encoding=\"utf-8\") as f:\n",
    "    f.write(extracted_text)\n",
    "\n",
    "print(\"Extracted text saved as extracted_text.txt\")\n"
   ]
  },
  {
   "cell_type": "code",
   "execution_count": 10,
   "id": "d9a16ce6",
   "metadata": {},
   "outputs": [
    {
     "name": "stdout",
     "output_type": "stream",
     "text": [
      "Extracted text from patient_10785.pdf\n",
      "Extracted text from patient_14392.pdf\n",
      "Extracted text from patient_15973.pdf\n",
      "Extracted text from patient_16839.pdf\n",
      "Extracted text from patient_18453.pdf\n",
      "Extracted text from patient_19362.pdf\n",
      "Extracted text from patient_21670.pdf\n",
      "Extracted text from patient_23581.pdf\n",
      "Extracted text from patient_25106.pdf\n",
      "Extracted text from patient_25879.pdf\n",
      "Extracted text from patient_26587.pdf\n",
      "Extracted text from patient_30218.pdf\n",
      "Extracted text from patient_30475.pdf\n",
      "Extracted text from patient_32645.pdf\n",
      "Extracted text from patient_34210.pdf\n",
      "Extracted text from patient_38957.pdf\n",
      "Extracted text from patient_40375.pdf\n",
      "Extracted text from patient_41973.pdf\n",
      "Extracted text from patient_43218.pdf\n",
      "Extracted text from patient_46098.pdf\n",
      "Extracted text from patient_48729.pdf\n",
      "Extracted text from patient_50312.pdf\n",
      "Extracted text from patient_51236.pdf\n",
      "Extracted text from patient_54689.pdf\n",
      "Extracted text from patient_57028.pdf\n",
      "Extracted text from patient_58136.pdf\n",
      "Extracted text from patient_58960.pdf\n",
      "Extracted text from patient_59680.pdf\n",
      "Extracted text from patient_63218.pdf\n",
      "Extracted text from patient_63490.pdf\n",
      "Extracted text from patient_67492.pdf\n",
      "Extracted text from patient_67981.pdf\n",
      "Extracted text from patient_68924.pdf\n",
      "Extracted text from patient_69513.pdf\n",
      "Extracted text from patient_71025.pdf\n",
      "Extracted text from patient_72854.pdf\n",
      "Extracted text from patient_74628.pdf\n",
      "Extracted text from patient_76084.pdf\n",
      "Extracted text from patient_76845.pdf\n",
      "Extracted text from patient_78103.pdf\n",
      "Extracted text from patient_81726.pdf\n",
      "Extracted text from patient_82041.pdf\n",
      "Extracted text from patient_84709.pdf\n",
      "Extracted text from patient_87346.pdf\n",
      "Extracted text from patient_87514.pdf\n",
      "Extracted text from patient_90473.pdf\n",
      "Extracted text from patient_92650.pdf\n",
      "Extracted text from patient_93501.pdf\n",
      "Extracted text from patient_94168.pdf\n",
      "Extracted text from patient_95124.pdf\n",
      "\n",
      " All PDF texts saved in extracted_texts.txt\n"
     ]
    }
   ],
   "source": [
    "import os\n",
    "from pdf2image import convert_from_path\n",
    "import pytesseract\n",
    "\n",
    "pdf_folder = r\"C:\\Users\\shaurya\\OneDrive\\Desktop\\origin dataset\\RC-Datasets\\RC1\\PDFs\"  \n",
    "poppler_path = r\"C:\\Users\\shaurya\\Downloads\\Release-24.08.0-0\\poppler-24.08.0\\Library\\bin\"  \n",
    "pytesseract.pytesseract.tesseract_cmd = r\"C:\\Program Files\\Tesseract-OCR\\tesseract.exe\"  \n",
    "\n",
    "pdf_files = [f for f in os.listdir(pdf_folder) if f.lower().endswith(\".pdf\")]\n",
    "\n",
    "output_file = \"extracted_texts.txt\"\n",
    "\n",
    "with open(output_file, \"w\", encoding=\"utf-8\") as f:\n",
    "    for pdf in pdf_files:\n",
    "        pdf_path = os.path.join(pdf_folder, pdf)\n",
    "        f.write(f\"\\n\\n===== Extracted Text from {pdf} =====\\n\\n\")\n",
    "\n",
    "        images = convert_from_path(pdf_path, poppler_path=poppler_path)\n",
    "\n",
    "        for i, img in enumerate(images):\n",
    "            text = pytesseract.image_to_string(img)\n",
    "            f.write(f\"\\n--- Page {i+1} ---\\n{text}\\n\")\n",
    "\n",
    "        print(f\"Extracted text from {pdf}\")\n",
    "\n",
    "print(f\"\\n All PDF texts saved in {output_file}\")\n"
   ]
  },
  {
   "cell_type": "code",
   "execution_count": 11,
   "id": "a1672984",
   "metadata": {},
   "outputs": [
    {
     "name": "stdout",
     "output_type": "stream",
     "text": [
      "Cleaned text saved as cleaned_text.txt\n"
     ]
    }
   ],
   "source": [
    "import re\n",
    "\n",
    "with open(\"extracted_text.txt\", \"r\", encoding=\"utf-8\") as f:\n",
    "    extracted_text = f.read()\n",
    "\n",
    "cleaned_text = re.sub(r'\\s+', ' ', extracted_text).strip()\n",
    "\n",
    "with open(\"cleaned_text.txt\", \"w\", encoding=\"utf-8\") as f:\n",
    "    f.write(cleaned_text)\n",
    "\n",
    "print(\"Cleaned text saved as cleaned_text.txt\")\n"
   ]
  },
  {
   "cell_type": "code",
   "execution_count": 12,
   "id": "b85ab914",
   "metadata": {},
   "outputs": [
    {
     "name": "stdout",
     "output_type": "stream",
     "text": [
      "Cleaned text saved as C:\\Users\\shaurya\\OneDrive\\Desktop\\origin dataset\\RC-Datasets\\RC1\\PDFs\\patient_10785_cleaned.txt\n",
      "Cleaned text saved as C:\\Users\\shaurya\\OneDrive\\Desktop\\origin dataset\\RC-Datasets\\RC1\\PDFs\\patient_14392_cleaned.txt\n",
      "Cleaned text saved as C:\\Users\\shaurya\\OneDrive\\Desktop\\origin dataset\\RC-Datasets\\RC1\\PDFs\\patient_15973_cleaned.txt\n",
      "Cleaned text saved as C:\\Users\\shaurya\\OneDrive\\Desktop\\origin dataset\\RC-Datasets\\RC1\\PDFs\\patient_16839_cleaned.txt\n",
      "Cleaned text saved as C:\\Users\\shaurya\\OneDrive\\Desktop\\origin dataset\\RC-Datasets\\RC1\\PDFs\\patient_18453_cleaned.txt\n",
      "Cleaned text saved as C:\\Users\\shaurya\\OneDrive\\Desktop\\origin dataset\\RC-Datasets\\RC1\\PDFs\\patient_19362_cleaned.txt\n",
      "Cleaned text saved as C:\\Users\\shaurya\\OneDrive\\Desktop\\origin dataset\\RC-Datasets\\RC1\\PDFs\\patient_21670_cleaned.txt\n",
      "Cleaned text saved as C:\\Users\\shaurya\\OneDrive\\Desktop\\origin dataset\\RC-Datasets\\RC1\\PDFs\\patient_23581_cleaned.txt\n",
      "Cleaned text saved as C:\\Users\\shaurya\\OneDrive\\Desktop\\origin dataset\\RC-Datasets\\RC1\\PDFs\\patient_25106_cleaned.txt\n",
      "Cleaned text saved as C:\\Users\\shaurya\\OneDrive\\Desktop\\origin dataset\\RC-Datasets\\RC1\\PDFs\\patient_25879_cleaned.txt\n",
      "Cleaned text saved as C:\\Users\\shaurya\\OneDrive\\Desktop\\origin dataset\\RC-Datasets\\RC1\\PDFs\\patient_26587_cleaned.txt\n",
      "Cleaned text saved as C:\\Users\\shaurya\\OneDrive\\Desktop\\origin dataset\\RC-Datasets\\RC1\\PDFs\\patient_30218_cleaned.txt\n",
      "Cleaned text saved as C:\\Users\\shaurya\\OneDrive\\Desktop\\origin dataset\\RC-Datasets\\RC1\\PDFs\\patient_30475_cleaned.txt\n",
      "Cleaned text saved as C:\\Users\\shaurya\\OneDrive\\Desktop\\origin dataset\\RC-Datasets\\RC1\\PDFs\\patient_32645_cleaned.txt\n",
      "Cleaned text saved as C:\\Users\\shaurya\\OneDrive\\Desktop\\origin dataset\\RC-Datasets\\RC1\\PDFs\\patient_34210_cleaned.txt\n",
      "Cleaned text saved as C:\\Users\\shaurya\\OneDrive\\Desktop\\origin dataset\\RC-Datasets\\RC1\\PDFs\\patient_38957_cleaned.txt\n",
      "Cleaned text saved as C:\\Users\\shaurya\\OneDrive\\Desktop\\origin dataset\\RC-Datasets\\RC1\\PDFs\\patient_40375_cleaned.txt\n",
      "Cleaned text saved as C:\\Users\\shaurya\\OneDrive\\Desktop\\origin dataset\\RC-Datasets\\RC1\\PDFs\\patient_41973_cleaned.txt\n",
      "Cleaned text saved as C:\\Users\\shaurya\\OneDrive\\Desktop\\origin dataset\\RC-Datasets\\RC1\\PDFs\\patient_43218_cleaned.txt\n",
      "Cleaned text saved as C:\\Users\\shaurya\\OneDrive\\Desktop\\origin dataset\\RC-Datasets\\RC1\\PDFs\\patient_46098_cleaned.txt\n",
      "Cleaned text saved as C:\\Users\\shaurya\\OneDrive\\Desktop\\origin dataset\\RC-Datasets\\RC1\\PDFs\\patient_48729_cleaned.txt\n",
      "Cleaned text saved as C:\\Users\\shaurya\\OneDrive\\Desktop\\origin dataset\\RC-Datasets\\RC1\\PDFs\\patient_50312_cleaned.txt\n",
      "Cleaned text saved as C:\\Users\\shaurya\\OneDrive\\Desktop\\origin dataset\\RC-Datasets\\RC1\\PDFs\\patient_51236_cleaned.txt\n",
      "Cleaned text saved as C:\\Users\\shaurya\\OneDrive\\Desktop\\origin dataset\\RC-Datasets\\RC1\\PDFs\\patient_54689_cleaned.txt\n",
      "Cleaned text saved as C:\\Users\\shaurya\\OneDrive\\Desktop\\origin dataset\\RC-Datasets\\RC1\\PDFs\\patient_57028_cleaned.txt\n",
      "Cleaned text saved as C:\\Users\\shaurya\\OneDrive\\Desktop\\origin dataset\\RC-Datasets\\RC1\\PDFs\\patient_58136_cleaned.txt\n",
      "Cleaned text saved as C:\\Users\\shaurya\\OneDrive\\Desktop\\origin dataset\\RC-Datasets\\RC1\\PDFs\\patient_58960_cleaned.txt\n",
      "Cleaned text saved as C:\\Users\\shaurya\\OneDrive\\Desktop\\origin dataset\\RC-Datasets\\RC1\\PDFs\\patient_59680_cleaned.txt\n",
      "Cleaned text saved as C:\\Users\\shaurya\\OneDrive\\Desktop\\origin dataset\\RC-Datasets\\RC1\\PDFs\\patient_63218_cleaned.txt\n",
      "Cleaned text saved as C:\\Users\\shaurya\\OneDrive\\Desktop\\origin dataset\\RC-Datasets\\RC1\\PDFs\\patient_63490_cleaned.txt\n",
      "Cleaned text saved as C:\\Users\\shaurya\\OneDrive\\Desktop\\origin dataset\\RC-Datasets\\RC1\\PDFs\\patient_67492_cleaned.txt\n",
      "Cleaned text saved as C:\\Users\\shaurya\\OneDrive\\Desktop\\origin dataset\\RC-Datasets\\RC1\\PDFs\\patient_67981_cleaned.txt\n",
      "Cleaned text saved as C:\\Users\\shaurya\\OneDrive\\Desktop\\origin dataset\\RC-Datasets\\RC1\\PDFs\\patient_68924_cleaned.txt\n",
      "Cleaned text saved as C:\\Users\\shaurya\\OneDrive\\Desktop\\origin dataset\\RC-Datasets\\RC1\\PDFs\\patient_69513_cleaned.txt\n",
      "Cleaned text saved as C:\\Users\\shaurya\\OneDrive\\Desktop\\origin dataset\\RC-Datasets\\RC1\\PDFs\\patient_71025_cleaned.txt\n",
      "Cleaned text saved as C:\\Users\\shaurya\\OneDrive\\Desktop\\origin dataset\\RC-Datasets\\RC1\\PDFs\\patient_72854_cleaned.txt\n",
      "Cleaned text saved as C:\\Users\\shaurya\\OneDrive\\Desktop\\origin dataset\\RC-Datasets\\RC1\\PDFs\\patient_74628_cleaned.txt\n",
      "Cleaned text saved as C:\\Users\\shaurya\\OneDrive\\Desktop\\origin dataset\\RC-Datasets\\RC1\\PDFs\\patient_76084_cleaned.txt\n",
      "Cleaned text saved as C:\\Users\\shaurya\\OneDrive\\Desktop\\origin dataset\\RC-Datasets\\RC1\\PDFs\\patient_76845_cleaned.txt\n",
      "Cleaned text saved as C:\\Users\\shaurya\\OneDrive\\Desktop\\origin dataset\\RC-Datasets\\RC1\\PDFs\\patient_78103_cleaned.txt\n",
      "Cleaned text saved as C:\\Users\\shaurya\\OneDrive\\Desktop\\origin dataset\\RC-Datasets\\RC1\\PDFs\\patient_81726_cleaned.txt\n",
      "Cleaned text saved as C:\\Users\\shaurya\\OneDrive\\Desktop\\origin dataset\\RC-Datasets\\RC1\\PDFs\\patient_82041_cleaned.txt\n",
      "Cleaned text saved as C:\\Users\\shaurya\\OneDrive\\Desktop\\origin dataset\\RC-Datasets\\RC1\\PDFs\\patient_84709_cleaned.txt\n",
      "Cleaned text saved as C:\\Users\\shaurya\\OneDrive\\Desktop\\origin dataset\\RC-Datasets\\RC1\\PDFs\\patient_87346_cleaned.txt\n",
      "Cleaned text saved as C:\\Users\\shaurya\\OneDrive\\Desktop\\origin dataset\\RC-Datasets\\RC1\\PDFs\\patient_87514_cleaned.txt\n",
      "Cleaned text saved as C:\\Users\\shaurya\\OneDrive\\Desktop\\origin dataset\\RC-Datasets\\RC1\\PDFs\\patient_90473_cleaned.txt\n",
      "Cleaned text saved as C:\\Users\\shaurya\\OneDrive\\Desktop\\origin dataset\\RC-Datasets\\RC1\\PDFs\\patient_92650_cleaned.txt\n",
      "Cleaned text saved as C:\\Users\\shaurya\\OneDrive\\Desktop\\origin dataset\\RC-Datasets\\RC1\\PDFs\\patient_93501_cleaned.txt\n",
      "Cleaned text saved as C:\\Users\\shaurya\\OneDrive\\Desktop\\origin dataset\\RC-Datasets\\RC1\\PDFs\\patient_94168_cleaned.txt\n",
      "Cleaned text saved as C:\\Users\\shaurya\\OneDrive\\Desktop\\origin dataset\\RC-Datasets\\RC1\\PDFs\\patient_95124_cleaned.txt\n",
      "All PDFs processed successfully!\n"
     ]
    }
   ],
   "source": [
    "import os\n",
    "import re\n",
    "from pdf2image import convert_from_path\n",
    "import pytesseract\n",
    "\n",
    "pdf_folder = r\"C:\\Users\\shaurya\\OneDrive\\Desktop\\origin dataset\\RC-Datasets\\RC1\\PDFs\" \n",
    "poppler_path = r\"C:\\Users\\shaurya\\Downloads\\Release-24.08.0-0\\poppler-24.08.0\\Library\\bin\"\n",
    "pytesseract.pytesseract.tesseract_cmd = r\"C:\\Program Files\\Tesseract-OCR\\tesseract.exe\"\n",
    "\n",
    "pdf_files = [f for f in os.listdir(pdf_folder) if f.endswith(\".pdf\")]\n",
    "\n",
    "for pdf_file in pdf_files:\n",
    "    pdf_path = os.path.join(pdf_folder, pdf_file)\n",
    "    images = convert_from_path(pdf_path, poppler_path=poppler_path)\n",
    "\n",
    "    extracted_text = \"\"\n",
    "    for img in images:\n",
    "        extracted_text += pytesseract.image_to_string(img) + \"\\n\"\n",
    "\n",
    "    cleaned_text = re.sub(r'\\s+', ' ', extracted_text).strip()\n",
    "\n",
    "    text_filename = os.path.join(pdf_folder, f\"{os.path.splitext(pdf_file)[0]}_cleaned.txt\")\n",
    "    with open(text_filename, \"w\", encoding=\"utf-8\") as f:\n",
    "        f.write(cleaned_text)\n",
    "\n",
    "    print(f\"Cleaned text saved as {text_filename}\")\n",
    "\n",
    "print(\"All PDFs processed successfully!\")\n"
   ]
  },
  {
   "cell_type": "code",
   "execution_count": 14,
   "id": "cf6df18e",
   "metadata": {},
   "outputs": [
    {
     "name": "stdout",
     "output_type": "stream",
     "text": [
      "Metadata extraction & anonymization completed successfully!\n"
     ]
    }
   ],
   "source": [
    "import json\n",
    "import uuid\n",
    "\n",
    "cleaned_folder = pdf_folder  \n",
    "\n",
    "anonymized_folder = os.path.join(pdf_folder, \"anonymized_reports\")\n",
    "os.makedirs(anonymized_folder, exist_ok=True)\n",
    "\n",
    "all_metadata = []\n",
    "\n",
    "patterns = {\n",
    "    \"gestational_age\": r\"Gestational Age:\\s*(\\d+\\s*weeks)\",\n",
    "    \"age\": r\"Age:\\s*(\\d+)\",\n",
    "    \"BMI\": r\"BMI:\\s*(\\d+\\.?\\d*)\",\n",
    "    \"examination_findings\": r\"Examination Findings:\\s*(.*)\"\n",
    "}\n",
    "\n",
    "for text_file in os.listdir(cleaned_folder):\n",
    "    if text_file.endswith(\"_cleaned.txt\"):\n",
    "        text_path = os.path.join(cleaned_folder, text_file)\n",
    "\n",
    "        with open(text_path, \"r\", encoding=\"utf-8\") as f:\n",
    "            text_content = f.read()\n",
    "\n",
    "        metadata = {\"anonymous_id\": str(uuid.uuid4())}  \n",
    "\n",
    "        for key, pattern in patterns.items():\n",
    "            match = re.search(pattern, text_content)\n",
    "            metadata[key] = match.group(1).strip() if match else \"N/A\"\n",
    "\n",
    "        anonymized_text_path = os.path.join(anonymized_folder, f\"{metadata['anonymous_id']}.txt\")\n",
    "        with open(anonymized_text_path, \"w\", encoding=\"utf-8\") as f:\n",
    "            f.write(text_content)\n",
    "\n",
    "        all_metadata.append(metadata)\n",
    "\n",
    "json_output_path = os.path.join(pdf_folder, \"extracted_metadata.json\")\n",
    "with open(json_output_path, \"w\", encoding=\"utf-8\") as json_file:\n",
    "    json.dump(all_metadata, json_file, indent=4)\n",
    "\n",
    "print(\"Metadata extraction & anonymization completed successfully!\")\n"
   ]
  },
  {
   "cell_type": "code",
   "execution_count": 17,
   "id": "aec46d04",
   "metadata": {},
   "outputs": [
    {
     "name": "stdout",
     "output_type": "stream",
     "text": [
      "Anonymized PDFs created successfully!\n"
     ]
    }
   ],
   "source": [
    "from fpdf import FPDF\n",
    "import os\n",
    "\n",
    "font_path = r\"C:\\Windows\\Fonts\\times.ttf\" \n",
    "\n",
    "if not os.path.exists(font_path):\n",
    "    raise FileNotFoundError(f\"Font file not found: {font_path}\")\n",
    "\n",
    "anonymized_folder = r\"C:\\Users\\shaurya\\OneDrive\\Desktop\\origin dataset\\RC-Datasets\\RC1\\PDFs\\anonymized_reports\"  \n",
    "\n",
    "for text_file in os.listdir(anonymized_folder):\n",
    "    if text_file.endswith(\".txt\"):\n",
    "        text_path = os.path.join(anonymized_folder, text_file)\n",
    "        pdf_path = os.path.join(anonymized_folder, f\"{os.path.splitext(text_file)[0]}.pdf\")\n",
    "\n",
    "        with open(text_path, \"r\", encoding=\"utf-8\") as f:\n",
    "            text_content = f.read()\n",
    "\n",
    "        pdf = FPDF()\n",
    "        pdf.add_page()\n",
    "        pdf.add_font(\"Times\", \"\", font_path, uni=True)  \n",
    "        pdf.set_font(\"Times\", size=12)\n",
    "        pdf.multi_cell(190, 10, text_content)\n",
    "        pdf.output(pdf_path, \"F\")\n",
    "\n",
    "print(\"Anonymized PDFs created successfully!\")\n"
   ]
  },
  {
   "cell_type": "code",
   "execution_count": 18,
   "id": "5b045a23",
   "metadata": {},
   "outputs": [
    {
     "name": "stdout",
     "output_type": "stream",
     "text": [
      "Metadata saved successfully in metadata.json!\n"
     ]
    }
   ],
   "source": [
    "import json\n",
    "\n",
    "metadata_file = \"metadata.json\"\n",
    "\n",
    "with open(metadata_file, \"w\", encoding=\"utf-8\") as f:\n",
    "    json.dump(all_metadata, f, indent=4)\n",
    "\n",
    "print(\"Metadata saved successfully in metadata.json!\")\n"
   ]
  },
  {
   "cell_type": "code",
   "execution_count": 19,
   "id": "c7a72245",
   "metadata": {},
   "outputs": [
    {
     "name": "stdout",
     "output_type": "stream",
     "text": [
      "Average Age: 6.670686658806255e+97\n",
      "Average BMI: 5.652486876743653e+97\n",
      "Most Common Examination Finding: N/A\n"
     ]
    }
   ],
   "source": [
    "import pandas as pd\n",
    "\n",
    "with open(\"metadata.json\", \"r\", encoding=\"utf-8\") as f:\n",
    "    data = json.load(f)\n",
    "\n",
    "df = pd.DataFrame(data)\n",
    "\n",
    "print(\"Average Age:\", df[\"age\"].mean())\n",
    "print(\"Average BMI:\", df[\"BMI\"].mean())\n",
    "print(\"Most Common Examination Finding:\", df[\"examination_findings\"].mode()[0])\n"
   ]
  },
  {
   "cell_type": "code",
   "execution_count": 20,
   "id": "00dc20c8",
   "metadata": {},
   "outputs": [
    {
     "name": "stdout",
     "output_type": "stream",
     "text": [
      "Collecting graphviz\n",
      "  Downloading graphviz-0.20.3-py3-none-any.whl.metadata (12 kB)\n",
      "Downloading graphviz-0.20.3-py3-none-any.whl (47 kB)\n",
      "Installing collected packages: graphviz\n",
      "Successfully installed graphviz-0.20.3\n",
      "Note: you may need to restart the kernel to use updated packages.\n"
     ]
    }
   ],
   "source": [
    "pip install graphviz\n"
   ]
  },
  {
   "cell_type": "code",
   "execution_count": 21,
   "id": "e8210058",
   "metadata": {},
   "outputs": [
    {
     "ename": "ExecutableNotFound",
     "evalue": "failed to execute WindowsPath('dot'), make sure the Graphviz executables are on your systems' PATH",
     "output_type": "error",
     "traceback": [
      "\u001b[1;31m---------------------------------------------------------------------------\u001b[0m",
      "\u001b[1;31mFileNotFoundError\u001b[0m                         Traceback (most recent call last)",
      "File \u001b[1;32m~\\anaconda3\\lib\\site-packages\\graphviz\\backend\\execute.py:78\u001b[0m, in \u001b[0;36mrun_check\u001b[1;34m(cmd, input_lines, encoding, quiet, **kwargs)\u001b[0m\n\u001b[0;32m     77\u001b[0m     \u001b[38;5;28;01melse\u001b[39;00m:\n\u001b[1;32m---> 78\u001b[0m         proc \u001b[38;5;241m=\u001b[39m subprocess\u001b[38;5;241m.\u001b[39mrun(cmd, \u001b[38;5;241m*\u001b[39m\u001b[38;5;241m*\u001b[39mkwargs)\n\u001b[0;32m     79\u001b[0m \u001b[38;5;28;01mexcept\u001b[39;00m \u001b[38;5;167;01mOSError\u001b[39;00m \u001b[38;5;28;01mas\u001b[39;00m e:\n",
      "File \u001b[1;32m~\\anaconda3\\lib\\subprocess.py:505\u001b[0m, in \u001b[0;36mrun\u001b[1;34m(input, capture_output, timeout, check, *popenargs, **kwargs)\u001b[0m\n\u001b[0;32m    503\u001b[0m     kwargs[\u001b[38;5;124m'\u001b[39m\u001b[38;5;124mstderr\u001b[39m\u001b[38;5;124m'\u001b[39m] \u001b[38;5;241m=\u001b[39m PIPE\n\u001b[1;32m--> 505\u001b[0m \u001b[38;5;28;01mwith\u001b[39;00m Popen(\u001b[38;5;241m*\u001b[39mpopenargs, \u001b[38;5;241m*\u001b[39m\u001b[38;5;241m*\u001b[39mkwargs) \u001b[38;5;28;01mas\u001b[39;00m process:\n\u001b[0;32m    506\u001b[0m     \u001b[38;5;28;01mtry\u001b[39;00m:\n",
      "File \u001b[1;32m~\\anaconda3\\lib\\subprocess.py:951\u001b[0m, in \u001b[0;36mPopen.__init__\u001b[1;34m(self, args, bufsize, executable, stdin, stdout, stderr, preexec_fn, close_fds, shell, cwd, env, universal_newlines, startupinfo, creationflags, restore_signals, start_new_session, pass_fds, user, group, extra_groups, encoding, errors, text, umask)\u001b[0m\n\u001b[0;32m    948\u001b[0m             \u001b[38;5;28mself\u001b[39m\u001b[38;5;241m.\u001b[39mstderr \u001b[38;5;241m=\u001b[39m io\u001b[38;5;241m.\u001b[39mTextIOWrapper(\u001b[38;5;28mself\u001b[39m\u001b[38;5;241m.\u001b[39mstderr,\n\u001b[0;32m    949\u001b[0m                     encoding\u001b[38;5;241m=\u001b[39mencoding, errors\u001b[38;5;241m=\u001b[39merrors)\n\u001b[1;32m--> 951\u001b[0m     \u001b[38;5;28;43mself\u001b[39;49m\u001b[38;5;241;43m.\u001b[39;49m\u001b[43m_execute_child\u001b[49m\u001b[43m(\u001b[49m\u001b[43margs\u001b[49m\u001b[43m,\u001b[49m\u001b[43m \u001b[49m\u001b[43mexecutable\u001b[49m\u001b[43m,\u001b[49m\u001b[43m \u001b[49m\u001b[43mpreexec_fn\u001b[49m\u001b[43m,\u001b[49m\u001b[43m \u001b[49m\u001b[43mclose_fds\u001b[49m\u001b[43m,\u001b[49m\n\u001b[0;32m    952\u001b[0m \u001b[43m                        \u001b[49m\u001b[43mpass_fds\u001b[49m\u001b[43m,\u001b[49m\u001b[43m \u001b[49m\u001b[43mcwd\u001b[49m\u001b[43m,\u001b[49m\u001b[43m \u001b[49m\u001b[43menv\u001b[49m\u001b[43m,\u001b[49m\n\u001b[0;32m    953\u001b[0m \u001b[43m                        \u001b[49m\u001b[43mstartupinfo\u001b[49m\u001b[43m,\u001b[49m\u001b[43m \u001b[49m\u001b[43mcreationflags\u001b[49m\u001b[43m,\u001b[49m\u001b[43m \u001b[49m\u001b[43mshell\u001b[49m\u001b[43m,\u001b[49m\n\u001b[0;32m    954\u001b[0m \u001b[43m                        \u001b[49m\u001b[43mp2cread\u001b[49m\u001b[43m,\u001b[49m\u001b[43m \u001b[49m\u001b[43mp2cwrite\u001b[49m\u001b[43m,\u001b[49m\n\u001b[0;32m    955\u001b[0m \u001b[43m                        \u001b[49m\u001b[43mc2pread\u001b[49m\u001b[43m,\u001b[49m\u001b[43m \u001b[49m\u001b[43mc2pwrite\u001b[49m\u001b[43m,\u001b[49m\n\u001b[0;32m    956\u001b[0m \u001b[43m                        \u001b[49m\u001b[43merrread\u001b[49m\u001b[43m,\u001b[49m\u001b[43m \u001b[49m\u001b[43merrwrite\u001b[49m\u001b[43m,\u001b[49m\n\u001b[0;32m    957\u001b[0m \u001b[43m                        \u001b[49m\u001b[43mrestore_signals\u001b[49m\u001b[43m,\u001b[49m\n\u001b[0;32m    958\u001b[0m \u001b[43m                        \u001b[49m\u001b[43mgid\u001b[49m\u001b[43m,\u001b[49m\u001b[43m \u001b[49m\u001b[43mgids\u001b[49m\u001b[43m,\u001b[49m\u001b[43m \u001b[49m\u001b[43muid\u001b[49m\u001b[43m,\u001b[49m\u001b[43m \u001b[49m\u001b[43mumask\u001b[49m\u001b[43m,\u001b[49m\n\u001b[0;32m    959\u001b[0m \u001b[43m                        \u001b[49m\u001b[43mstart_new_session\u001b[49m\u001b[43m)\u001b[49m\n\u001b[0;32m    960\u001b[0m \u001b[38;5;28;01mexcept\u001b[39;00m:\n\u001b[0;32m    961\u001b[0m     \u001b[38;5;66;03m# Cleanup if the child failed starting.\u001b[39;00m\n",
      "File \u001b[1;32m~\\anaconda3\\lib\\subprocess.py:1420\u001b[0m, in \u001b[0;36mPopen._execute_child\u001b[1;34m(self, args, executable, preexec_fn, close_fds, pass_fds, cwd, env, startupinfo, creationflags, shell, p2cread, p2cwrite, c2pread, c2pwrite, errread, errwrite, unused_restore_signals, unused_gid, unused_gids, unused_uid, unused_umask, unused_start_new_session)\u001b[0m\n\u001b[0;32m   1419\u001b[0m \u001b[38;5;28;01mtry\u001b[39;00m:\n\u001b[1;32m-> 1420\u001b[0m     hp, ht, pid, tid \u001b[38;5;241m=\u001b[39m \u001b[43m_winapi\u001b[49m\u001b[38;5;241;43m.\u001b[39;49m\u001b[43mCreateProcess\u001b[49m\u001b[43m(\u001b[49m\u001b[43mexecutable\u001b[49m\u001b[43m,\u001b[49m\u001b[43m \u001b[49m\u001b[43margs\u001b[49m\u001b[43m,\u001b[49m\n\u001b[0;32m   1421\u001b[0m \u001b[43m                             \u001b[49m\u001b[38;5;66;43;03m# no special security\u001b[39;49;00m\n\u001b[0;32m   1422\u001b[0m \u001b[43m                             \u001b[49m\u001b[38;5;28;43;01mNone\u001b[39;49;00m\u001b[43m,\u001b[49m\u001b[43m \u001b[49m\u001b[38;5;28;43;01mNone\u001b[39;49;00m\u001b[43m,\u001b[49m\n\u001b[0;32m   1423\u001b[0m \u001b[43m                             \u001b[49m\u001b[38;5;28;43mint\u001b[39;49m\u001b[43m(\u001b[49m\u001b[38;5;129;43;01mnot\u001b[39;49;00m\u001b[43m \u001b[49m\u001b[43mclose_fds\u001b[49m\u001b[43m)\u001b[49m\u001b[43m,\u001b[49m\n\u001b[0;32m   1424\u001b[0m \u001b[43m                             \u001b[49m\u001b[43mcreationflags\u001b[49m\u001b[43m,\u001b[49m\n\u001b[0;32m   1425\u001b[0m \u001b[43m                             \u001b[49m\u001b[43menv\u001b[49m\u001b[43m,\u001b[49m\n\u001b[0;32m   1426\u001b[0m \u001b[43m                             \u001b[49m\u001b[43mcwd\u001b[49m\u001b[43m,\u001b[49m\n\u001b[0;32m   1427\u001b[0m \u001b[43m                             \u001b[49m\u001b[43mstartupinfo\u001b[49m\u001b[43m)\u001b[49m\n\u001b[0;32m   1428\u001b[0m \u001b[38;5;28;01mfinally\u001b[39;00m:\n\u001b[0;32m   1429\u001b[0m     \u001b[38;5;66;03m# Child is launched. Close the parent's copy of those pipe\u001b[39;00m\n\u001b[0;32m   1430\u001b[0m     \u001b[38;5;66;03m# handles that only the child should have open.  You need\u001b[39;00m\n\u001b[1;32m   (...)\u001b[0m\n\u001b[0;32m   1433\u001b[0m     \u001b[38;5;66;03m# pipe will not close when the child process exits and the\u001b[39;00m\n\u001b[0;32m   1434\u001b[0m     \u001b[38;5;66;03m# ReadFile will hang.\u001b[39;00m\n",
      "\u001b[1;31mFileNotFoundError\u001b[0m: [WinError 2] The system cannot find the file specified",
      "\nThe above exception was the direct cause of the following exception:\n",
      "\u001b[1;31mExecutableNotFound\u001b[0m                        Traceback (most recent call last)",
      "Input \u001b[1;32mIn [21]\u001b[0m, in \u001b[0;36m<cell line: 33>\u001b[1;34m()\u001b[0m\n\u001b[0;32m     30\u001b[0m flowchart\u001b[38;5;241m.\u001b[39medge(\u001b[38;5;124m'\u001b[39m\u001b[38;5;124mJ\u001b[39m\u001b[38;5;124m'\u001b[39m, \u001b[38;5;124m'\u001b[39m\u001b[38;5;124mK\u001b[39m\u001b[38;5;124m'\u001b[39m)\n\u001b[0;32m     32\u001b[0m \u001b[38;5;66;03m# Render and save the flowchart\u001b[39;00m\n\u001b[1;32m---> 33\u001b[0m \u001b[43mflowchart\u001b[49m\u001b[38;5;241;43m.\u001b[39;49m\u001b[43mrender\u001b[49m\u001b[43m(\u001b[49m\u001b[38;5;124;43m'\u001b[39;49m\u001b[38;5;124;43mtask1_flowchart\u001b[39;49m\u001b[38;5;124;43m'\u001b[39;49m\u001b[43m,\u001b[49m\u001b[43m \u001b[49m\u001b[43mview\u001b[49m\u001b[38;5;241;43m=\u001b[39;49m\u001b[38;5;28;43;01mTrue\u001b[39;49;00m\u001b[43m)\u001b[49m\n",
      "File \u001b[1;32m~\\anaconda3\\lib\\site-packages\\graphviz\\_tools.py:171\u001b[0m, in \u001b[0;36mdeprecate_positional_args.<locals>.decorator.<locals>.wrapper\u001b[1;34m(*args, **kwargs)\u001b[0m\n\u001b[0;32m    162\u001b[0m     wanted \u001b[38;5;241m=\u001b[39m \u001b[38;5;124m'\u001b[39m\u001b[38;5;124m, \u001b[39m\u001b[38;5;124m'\u001b[39m\u001b[38;5;241m.\u001b[39mjoin(\u001b[38;5;124mf\u001b[39m\u001b[38;5;124m'\u001b[39m\u001b[38;5;132;01m{\u001b[39;00mname\u001b[38;5;132;01m}\u001b[39;00m\u001b[38;5;124m=\u001b[39m\u001b[38;5;132;01m{\u001b[39;00mvalue\u001b[38;5;132;01m!r}\u001b[39;00m\u001b[38;5;124m'\u001b[39m\n\u001b[0;32m    163\u001b[0m                        \u001b[38;5;28;01mfor\u001b[39;00m name, value \u001b[38;5;129;01min\u001b[39;00m deprecated\u001b[38;5;241m.\u001b[39mitems())\n\u001b[0;32m    164\u001b[0m     warnings\u001b[38;5;241m.\u001b[39mwarn(\u001b[38;5;124mf\u001b[39m\u001b[38;5;124m'\u001b[39m\u001b[38;5;124mThe signature of \u001b[39m\u001b[38;5;132;01m{\u001b[39;00mfunc\u001b[38;5;241m.\u001b[39m\u001b[38;5;18m__name__\u001b[39m\u001b[38;5;132;01m}\u001b[39;00m\u001b[38;5;124m will be reduced\u001b[39m\u001b[38;5;124m'\u001b[39m\n\u001b[0;32m    165\u001b[0m                   \u001b[38;5;124mf\u001b[39m\u001b[38;5;124m'\u001b[39m\u001b[38;5;124m to \u001b[39m\u001b[38;5;132;01m{\u001b[39;00msupported_number\u001b[38;5;132;01m}\u001b[39;00m\u001b[38;5;124m positional args\u001b[39m\u001b[38;5;124m'\u001b[39m\n\u001b[0;32m    166\u001b[0m                   \u001b[38;5;124mf\u001b[39m\u001b[38;5;124m'\u001b[39m\u001b[38;5;124m \u001b[39m\u001b[38;5;132;01m{\u001b[39;00m\u001b[38;5;28mlist\u001b[39m(supported)\u001b[38;5;132;01m}\u001b[39;00m\u001b[38;5;124m: pass \u001b[39m\u001b[38;5;132;01m{\u001b[39;00mwanted\u001b[38;5;132;01m}\u001b[39;00m\u001b[38;5;124m'\u001b[39m\n\u001b[0;32m    167\u001b[0m                   \u001b[38;5;124m'\u001b[39m\u001b[38;5;124m as keyword arg(s)\u001b[39m\u001b[38;5;124m'\u001b[39m,\n\u001b[0;32m    168\u001b[0m                   stacklevel\u001b[38;5;241m=\u001b[39mstacklevel,\n\u001b[0;32m    169\u001b[0m                   category\u001b[38;5;241m=\u001b[39mcategory)\n\u001b[1;32m--> 171\u001b[0m \u001b[38;5;28;01mreturn\u001b[39;00m func(\u001b[38;5;241m*\u001b[39margs, \u001b[38;5;241m*\u001b[39m\u001b[38;5;241m*\u001b[39mkwargs)\n",
      "File \u001b[1;32m~\\anaconda3\\lib\\site-packages\\graphviz\\rendering.py:122\u001b[0m, in \u001b[0;36mRender.render\u001b[1;34m(self, filename, directory, view, cleanup, format, renderer, formatter, neato_no_op, quiet, quiet_view, outfile, engine, raise_if_result_exists, overwrite_source)\u001b[0m\n\u001b[0;32m    118\u001b[0m filepath \u001b[38;5;241m=\u001b[39m \u001b[38;5;28mself\u001b[39m\u001b[38;5;241m.\u001b[39msave(filename, directory\u001b[38;5;241m=\u001b[39mdirectory, skip_existing\u001b[38;5;241m=\u001b[39m\u001b[38;5;28;01mNone\u001b[39;00m)\n\u001b[0;32m    120\u001b[0m args\u001b[38;5;241m.\u001b[39mappend(filepath)\n\u001b[1;32m--> 122\u001b[0m rendered \u001b[38;5;241m=\u001b[39m \u001b[38;5;28mself\u001b[39m\u001b[38;5;241m.\u001b[39m_render(\u001b[38;5;241m*\u001b[39margs, \u001b[38;5;241m*\u001b[39m\u001b[38;5;241m*\u001b[39mkwargs)\n\u001b[0;32m    124\u001b[0m \u001b[38;5;28;01mif\u001b[39;00m cleanup:\n\u001b[0;32m    125\u001b[0m     log\u001b[38;5;241m.\u001b[39mdebug(\u001b[38;5;124m'\u001b[39m\u001b[38;5;124mdelete \u001b[39m\u001b[38;5;132;01m%r\u001b[39;00m\u001b[38;5;124m'\u001b[39m, filepath)\n",
      "File \u001b[1;32m~\\anaconda3\\lib\\site-packages\\graphviz\\_tools.py:171\u001b[0m, in \u001b[0;36mdeprecate_positional_args.<locals>.decorator.<locals>.wrapper\u001b[1;34m(*args, **kwargs)\u001b[0m\n\u001b[0;32m    162\u001b[0m     wanted \u001b[38;5;241m=\u001b[39m \u001b[38;5;124m'\u001b[39m\u001b[38;5;124m, \u001b[39m\u001b[38;5;124m'\u001b[39m\u001b[38;5;241m.\u001b[39mjoin(\u001b[38;5;124mf\u001b[39m\u001b[38;5;124m'\u001b[39m\u001b[38;5;132;01m{\u001b[39;00mname\u001b[38;5;132;01m}\u001b[39;00m\u001b[38;5;124m=\u001b[39m\u001b[38;5;132;01m{\u001b[39;00mvalue\u001b[38;5;132;01m!r}\u001b[39;00m\u001b[38;5;124m'\u001b[39m\n\u001b[0;32m    163\u001b[0m                        \u001b[38;5;28;01mfor\u001b[39;00m name, value \u001b[38;5;129;01min\u001b[39;00m deprecated\u001b[38;5;241m.\u001b[39mitems())\n\u001b[0;32m    164\u001b[0m     warnings\u001b[38;5;241m.\u001b[39mwarn(\u001b[38;5;124mf\u001b[39m\u001b[38;5;124m'\u001b[39m\u001b[38;5;124mThe signature of \u001b[39m\u001b[38;5;132;01m{\u001b[39;00mfunc\u001b[38;5;241m.\u001b[39m\u001b[38;5;18m__name__\u001b[39m\u001b[38;5;132;01m}\u001b[39;00m\u001b[38;5;124m will be reduced\u001b[39m\u001b[38;5;124m'\u001b[39m\n\u001b[0;32m    165\u001b[0m                   \u001b[38;5;124mf\u001b[39m\u001b[38;5;124m'\u001b[39m\u001b[38;5;124m to \u001b[39m\u001b[38;5;132;01m{\u001b[39;00msupported_number\u001b[38;5;132;01m}\u001b[39;00m\u001b[38;5;124m positional args\u001b[39m\u001b[38;5;124m'\u001b[39m\n\u001b[0;32m    166\u001b[0m                   \u001b[38;5;124mf\u001b[39m\u001b[38;5;124m'\u001b[39m\u001b[38;5;124m \u001b[39m\u001b[38;5;132;01m{\u001b[39;00m\u001b[38;5;28mlist\u001b[39m(supported)\u001b[38;5;132;01m}\u001b[39;00m\u001b[38;5;124m: pass \u001b[39m\u001b[38;5;132;01m{\u001b[39;00mwanted\u001b[38;5;132;01m}\u001b[39;00m\u001b[38;5;124m'\u001b[39m\n\u001b[0;32m    167\u001b[0m                   \u001b[38;5;124m'\u001b[39m\u001b[38;5;124m as keyword arg(s)\u001b[39m\u001b[38;5;124m'\u001b[39m,\n\u001b[0;32m    168\u001b[0m                   stacklevel\u001b[38;5;241m=\u001b[39mstacklevel,\n\u001b[0;32m    169\u001b[0m                   category\u001b[38;5;241m=\u001b[39mcategory)\n\u001b[1;32m--> 171\u001b[0m \u001b[38;5;28;01mreturn\u001b[39;00m func(\u001b[38;5;241m*\u001b[39margs, \u001b[38;5;241m*\u001b[39m\u001b[38;5;241m*\u001b[39mkwargs)\n",
      "File \u001b[1;32m~\\anaconda3\\lib\\site-packages\\graphviz\\backend\\rendering.py:326\u001b[0m, in \u001b[0;36mrender\u001b[1;34m(engine, format, filepath, renderer, formatter, neato_no_op, quiet, outfile, raise_if_result_exists, overwrite_filepath)\u001b[0m\n\u001b[0;32m    322\u001b[0m cmd \u001b[38;5;241m+\u001b[39m\u001b[38;5;241m=\u001b[39m args\n\u001b[0;32m    324\u001b[0m \u001b[38;5;28;01massert\u001b[39;00m filepath \u001b[38;5;129;01mis\u001b[39;00m \u001b[38;5;129;01mnot\u001b[39;00m \u001b[38;5;28;01mNone\u001b[39;00m, \u001b[38;5;124m'\u001b[39m\u001b[38;5;124mwork around pytype false alarm\u001b[39m\u001b[38;5;124m'\u001b[39m\n\u001b[1;32m--> 326\u001b[0m \u001b[43mexecute\u001b[49m\u001b[38;5;241;43m.\u001b[39;49m\u001b[43mrun_check\u001b[49m\u001b[43m(\u001b[49m\u001b[43mcmd\u001b[49m\u001b[43m,\u001b[49m\n\u001b[0;32m    327\u001b[0m \u001b[43m                  \u001b[49m\u001b[43mcwd\u001b[49m\u001b[38;5;241;43m=\u001b[39;49m\u001b[43mfilepath\u001b[49m\u001b[38;5;241;43m.\u001b[39;49m\u001b[43mparent\u001b[49m\u001b[43m \u001b[49m\u001b[38;5;28;43;01mif\u001b[39;49;00m\u001b[43m \u001b[49m\u001b[43mfilepath\u001b[49m\u001b[38;5;241;43m.\u001b[39;49m\u001b[43mparent\u001b[49m\u001b[38;5;241;43m.\u001b[39;49m\u001b[43mparts\u001b[49m\u001b[43m \u001b[49m\u001b[38;5;28;43;01melse\u001b[39;49;00m\u001b[43m \u001b[49m\u001b[38;5;28;43;01mNone\u001b[39;49;00m\u001b[43m,\u001b[49m\n\u001b[0;32m    328\u001b[0m \u001b[43m                  \u001b[49m\u001b[43mquiet\u001b[49m\u001b[38;5;241;43m=\u001b[39;49m\u001b[43mquiet\u001b[49m\u001b[43m,\u001b[49m\n\u001b[0;32m    329\u001b[0m \u001b[43m                  \u001b[49m\u001b[43mcapture_output\u001b[49m\u001b[38;5;241;43m=\u001b[39;49m\u001b[38;5;28;43;01mTrue\u001b[39;49;00m\u001b[43m)\u001b[49m\n\u001b[0;32m    331\u001b[0m \u001b[38;5;28;01mreturn\u001b[39;00m os\u001b[38;5;241m.\u001b[39mfspath(outfile)\n",
      "File \u001b[1;32m~\\anaconda3\\lib\\site-packages\\graphviz\\backend\\execute.py:81\u001b[0m, in \u001b[0;36mrun_check\u001b[1;34m(cmd, input_lines, encoding, quiet, **kwargs)\u001b[0m\n\u001b[0;32m     79\u001b[0m \u001b[38;5;28;01mexcept\u001b[39;00m \u001b[38;5;167;01mOSError\u001b[39;00m \u001b[38;5;28;01mas\u001b[39;00m e:\n\u001b[0;32m     80\u001b[0m     \u001b[38;5;28;01mif\u001b[39;00m e\u001b[38;5;241m.\u001b[39merrno \u001b[38;5;241m==\u001b[39m errno\u001b[38;5;241m.\u001b[39mENOENT:\n\u001b[1;32m---> 81\u001b[0m         \u001b[38;5;28;01mraise\u001b[39;00m ExecutableNotFound(cmd) \u001b[38;5;28;01mfrom\u001b[39;00m \u001b[38;5;21;01me\u001b[39;00m\n\u001b[0;32m     82\u001b[0m     \u001b[38;5;28;01mraise\u001b[39;00m\n\u001b[0;32m     84\u001b[0m \u001b[38;5;28;01mif\u001b[39;00m \u001b[38;5;129;01mnot\u001b[39;00m quiet \u001b[38;5;129;01mand\u001b[39;00m proc\u001b[38;5;241m.\u001b[39mstderr:\n",
      "\u001b[1;31mExecutableNotFound\u001b[0m: failed to execute WindowsPath('dot'), make sure the Graphviz executables are on your systems' PATH"
     ]
    }
   ],
   "source": []
  },
  {
   "cell_type": "code",
   "execution_count": null,
   "id": "a9d40528",
   "metadata": {},
   "outputs": [],
   "source": []
  }
 ],
 "metadata": {
  "kernelspec": {
   "display_name": "Python 3 (ipykernel)",
   "language": "python",
   "name": "python3"
  },
  "language_info": {
   "codemirror_mode": {
    "name": "ipython",
    "version": 3
   },
   "file_extension": ".py",
   "mimetype": "text/x-python",
   "name": "python",
   "nbconvert_exporter": "python",
   "pygments_lexer": "ipython3",
   "version": "3.9.12"
  }
 },
 "nbformat": 4,
 "nbformat_minor": 5
}
